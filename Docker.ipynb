{
 "cells": [
  {
   "cell_type": "markdown",
   "metadata": {},
   "source": [
    "# 1. Vsodeのインストール\n",
    "お使いのインストーラーをダウンロードしてインストールしてください   \n",
    "https://code.visualstudio.com/download\n",
    "\n",
    "## Remote Extension \n",
    "以下の拡張機能を入れます  \n",
    "https://marketplace.visualstudio.com/items?itemName=ms-vscode-remote.vscode-remote-extensionpack"
   ]
  },
  {
   "cell_type": "markdown",
   "metadata": {},
   "source": [
    "# 2. Docker Desktopをインストールします\n",
    "\n",
    "ご自身の環境に合わせてインストールください  \n",
    "https://www.docker.com/get-started\n",
    "\n",
    "\n",
    "メモリを6GBに設定しておくと動作も軽快で便利です  \n",
    "![図1.2 Dockerのメモリ設定](images/docker_memory.png)"
   ]
  },
  {
   "cell_type": "markdown",
   "metadata": {},
   "source": [
    "# 3. VsCodeからコンテナにアクセス\n",
    "VsCodeからコンテナにアクセスを行います(画面は変わったように見えないかもしれないですが変わっています)。\n",
    "\n",
    "以下の画像のボタンからpyspark_settingsフォルダを選択します\n",
    "\n",
    "![図1.2 VsCodeからコンテナにリモート接続します](images/docker-remote.png)\n",
    "\n",
    "![図1.2 VsCodeからコンテナにリモート接続します](images/remote_open.png)"
   ]
  },
  {
   "cell_type": "markdown",
   "metadata": {},
   "source": [
    "# ここからコンテナ内での作業になっています。"
   ]
  },
  {
   "cell_type": "markdown",
   "metadata": {},
   "source": [
    "## VsCodeでノートブックを開くためには\n",
    "cmd shift p -> 「cretate ju」をタイプし「create jupyter notebook」を選択します\n",
    "\n",
    "こちらの確認もお忘れなく  \n",
    "![図1.2 3.9.1のPythonのバージョンになっているかチェック](images/python_interpreter.png)\n"
   ]
  },
  {
   "cell_type": "markdown",
   "metadata": {},
   "source": [
    "# ===== ここからコンテナ内の操作です====="
   ]
  },
  {
   "cell_type": "markdown",
   "metadata": {},
   "source": [
    "# ノートブック環境が動くか確認します"
   ]
  },
  {
   "cell_type": "code",
   "execution_count": null,
   "metadata": {},
   "outputs": [],
   "source": [
    "# dockerで構築した場合\n",
    "# コンソールで設定したSparkとNoteBookを接続します(動かす前に毎度実行する必要があります)\n",
    "import findspark\n",
    "findspark.init(\"/home/pyspark/spark/\")"
   ]
  },
  {
   "cell_type": "code",
   "execution_count": null,
   "metadata": {},
   "outputs": [],
   "source": [
    "#pysparkに必要なライブラリを読み込む\n",
    "from pyspark import SparkConf\n",
    "from pyspark import SparkContext\n",
    "from pyspark.sql import SparkSession\n",
    "\n",
    "#問題なく実行できればOKです"
   ]
  },
  {
   "cell_type": "code",
   "execution_count": null,
   "metadata": {},
   "outputs": [],
   "source": [
    "#pysparkに必要なライブラリを読み込む\n",
    "\n",
    "from pyspark import SparkConf\n",
    "from pyspark import SparkContext\n",
    "from pyspark.sql import SparkSession\n",
    "\n",
    "#spark sessionの作成\n",
    "# spark.ui.enabled trueとするとSparkのGUI画面を確認することができます\n",
    "# spark.eventLog.enabled true　とすると　GUIで実行ログを確認することができます\n",
    "# GUIなどの確認は最後のセクションで説明を行います。\n",
    "spark = SparkSession.builder \\\n",
    "    .appName(\"chapter1\") \\\n",
    "    .config(\"hive.exec.dynamic.partition\", \"true\") \\\n",
    "    .config(\"hive.exec.dynamic.partition.mode\", \"nonstrict\") \\\n",
    "    .config(\"spark.sql.session.timeZone\", \"JST\") \\\n",
    "    .config(\"spark.ui.enabled\",\"true\") \\\n",
    "    .config(\"spark.eventLog.enabled\",\"true\") \\\n",
    "    .enableHiveSupport() \\\n",
    "    .getOrCreate()\n",
    "\n",
    "spark.sql(\"show tables\").show() \n",
    "\n",
    "# 空の結果が表示されればOKです"
   ]
  },
  {
   "cell_type": "code",
   "execution_count": null,
   "metadata": {},
   "outputs": [],
   "source": [
    "spark.stop()\n",
    "spark.sparkContext.stop()"
   ]
  },
  {
   "cell_type": "markdown",
   "metadata": {},
   "source": [
    "# ターミナルでpyspark動くか確認します\n",
    "\n",
    "1. ターミナルでpyspark\n",
    "2. ターミナルでspark-submitが存在していること"
   ]
  },
  {
   "cell_type": "markdown",
   "metadata": {},
   "source": [
    "# Dbの準備を行います\n",
    "1. mysql -h db_mysql -uroot -proot\n",
    "2. source 2.3.0_utf-8.sql"
   ]
  },
  {
   "cell_type": "markdown",
   "metadata": {},
   "source": [
    "# 1. Vsodeのインストール\n",
    "お使いのインストーラーをダウンロードしてインストールしてください   \n",
    "https://code.visualstudio.com/download\n",
    "\n",
    "## Remote Extension \n",
    "以下の拡張機能を入れます  \n",
    "https://marketplace.visualstudio.com/items?itemName=ms-vscode-remote.vscode-remote-extensionpack\n",
    "# 2. Docker Desktopをインストールします\n",
    "\n",
    "ご自身の環境に合わせてインストールください  \n",
    "https://www.docker.com/get-started\n",
    "\n",
    "\n",
    "メモリを6GB~10GBに設定しておくと動作も軽快で便利です  \n",
    "\n",
    "ダッシュボードを開く  \n",
    "![図1.2 Dockerのメモリ設定](files/images/docker_dashbord.png)\n",
    "\n",
    "歯車マークを押して、設定画面へ移動する  \n",
    "![図1.2 Dockerのメモリ設定](files/images/docker_memory.png)\n",
    "# 3. VsCodeからコンテナにアクセス\n",
    "VsCodeからコンテナにアクセスを行います(画面は変わったように見えないかもしれないですが変わっています)。\n",
    "\n",
    "以下の画像のボタンからbusiness_sql_courseフォルダを選択します\n",
    "\n",
    "![図1.2 VsCodeからコンテナにリモート接続します](files/images/docker-remote.png)\n",
    "\n",
    "![図1.2 VsCodeからコンテナにリモート接続します](files/images/remote_open.png)\n",
    "# MetaBaseにアクセスして、初期設定を行う\n",
    "起動まで時間がかかりますが、1~2分ほどしたら\n",
    "\n",
    "http://localhost:3000\n",
    "\n",
    "にアクセスしてMETABASEを開きます。\n",
    "\n",
    "以下の画像の様に設定を行います。\n",
    "\n",
    "日本語を選択\n",
    "\n",
    "![図1.2 VsCodeからコンテナにリモート接続します](files/images/metabase_setting1.png)\n",
    "\n",
    "メールアドレスも含めて登録\n",
    "\n",
    "![図1.2 VsCodeからコンテナにリモート接続します](files/images/metabase_setting2.png)\n",
    "\n",
    "「後でデータを追加する」を選択\n",
    "\n",
    "![図1.2 VsCodeからコンテナにリモート接続します](files/images/metabase_setting3.png)\n",
    "![図1.2 VsCodeからコンテナにリモート接続します](files/images/metabase_setting4.png)\n",
    "![図1.2 VsCodeからコンテナにリモート接続します](files/images/metabase_setting5.png)\n",
    "\n",
    "# もし起動せず固まってしまった場合\n",
    "お手数ですが以下の手順に沿って、作成し直しをお願いいたします。\n",
    "\n",
    "コンテナを削除する(以下の画像に写っているmetabase_biのみ削除をお願いします)\n",
    "\n",
    "![図1.2 VsCodeからコンテナにリモート接続します](files/images/restart.png)\n",
    "\n",
    "ターミナルで以下のコマンドを実行\n",
    "docker-compose up -d"
   ]
  },
  {
   "cell_type": "markdown",
   "metadata": {},
   "source": [
    "# Rundeck\n",
    "\n",
    "Dockerで以下の様なログが出れば完了です  \n",
    "\n",
    "```\n",
    "Grails application running at http://0.0.0.0:4440/ in environment: production\n",
    "```\n",
    "\n",
    "アクセスURL\n",
    "http://127.0.0.1:4440/menu/home\n",
    "\n",
    "初期ID/パスワード\n",
    "\n",
    "admin/admin\n",
    "\n",
    "です\n",
    "\n",
    "![図1.2 VsCodeからコンテナにリモート接続します](files/images/rundeck.png)"
   ]
  }
 ],
 "metadata": {
  "interpreter": {
   "hash": "578f5f657c2fb65ecadb997ad60e5cf2da380ecec34305a6dd913dc5b96e257c"
  },
  "kernelspec": {
   "display_name": "Python 3.9.1 64-bit ('3.9.1': pyenv)",
   "language": "python",
   "name": "python3"
  },
  "language_info": {
   "codemirror_mode": {
    "name": "ipython",
    "version": 3
   },
   "file_extension": ".py",
   "mimetype": "text/x-python",
   "name": "python",
   "nbconvert_exporter": "python",
   "pygments_lexer": "ipython3",
   "version": "3.9.1"
  },
  "orig_nbformat": 4
 },
 "nbformat": 4,
 "nbformat_minor": 2
}
