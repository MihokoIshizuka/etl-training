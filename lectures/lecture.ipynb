{
 "cells": [
  {
   "cell_type": "markdown",
   "metadata": {},
   "source": [
    "# このノートブックをベースにデータ分析基盤を作成していきます"
   ]
  },
  {
   "cell_type": "markdown",
   "metadata": {},
   "source": [
    "docker exec -it pyspark_big /bin/bash\n",
    "\n",
    "pyspark-topic\n",
    "\n",
    "```\n",
    "/home/pyspark/kafka/bin/kafka-topics.sh \\\n",
    "    --create --topic pyspark-topic \\\n",
    "    --replication-factor 1 \\\n",
    "    --partitions 1 \\\n",
    "    --bootstrap-server kafka_big:9092 \n",
    "```"
   ]
  },
  {
   "cell_type": "markdown",
   "metadata": {},
   "source": [
    "# データソース(Postgres)からデータを取得してみましょう\n",
    "今回は、コンテナ名「metabase_postgres_big」のmetabaseデータベースからordersテーブルのデータをembulkを使って取得してみましょう。\n",
    "\n",
    ">>> df = spark.read.parquet(\"/tmp/share_file/datalake/\")\n",
    ">>> df.show()  "
   ]
  },
  {
   "cell_type": "markdown",
   "metadata": {},
   "source": [
    "\n",
    "テーブルの作成はいらない\n",
    "psql -h postgres_data_big -p 5433 -U postgres -d access_layer\n",
    "\n",
    "```\n",
    "create database access_layer\n",
    "create table if not exists etl_load (\n",
    "       product_id           varchar(255)             default null,\n",
    "       user_id           varchar(255)             default null\n",
    ");\n",
    "\n",
    "```"
   ]
  }
 ],
 "metadata": {
  "language_info": {
   "name": "python"
  },
  "orig_nbformat": 4
 },
 "nbformat": 4,
 "nbformat_minor": 2
}
