{
 "cells": [
  {
   "cell_type": "markdown",
   "metadata": {},
   "source": [
    "# このノートブックをベースにデータ分析基盤を作成していきます"
   ]
  },
  {
   "cell_type": "markdown",
   "metadata": {},
   "source": [
    "# データソース(Postgres)からデータを取得してみましょう\n",
    "今回は、コンテナ名「metabase_postgres_big」のmetabaseデータベースからordersテーブルのデータをembulkを使って取得してみましょう。"
   ]
  }
 ],
 "metadata": {
  "language_info": {
   "name": "python"
  },
  "orig_nbformat": 4
 },
 "nbformat": 4,
 "nbformat_minor": 2
}
